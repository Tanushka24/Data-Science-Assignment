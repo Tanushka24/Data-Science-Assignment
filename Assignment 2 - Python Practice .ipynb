{
 "cells": [
  {
   "cell_type": "raw",
   "id": "618748fc-17a8-466d-a572-748a9c91641f",
   "metadata": {},
   "source": [
    "Q1. Write a program to accept percentage from the user and display the grade according to the following criteria: \n",
    "\n",
    "         Table\n",
    "Marks             Grade \n",
    ">90           -     A\n",
    ">80 and <=90  -     B \n",
    ">=60 and <=80 -     C \n",
    "below 60      -     D\n"
   ]
  },
  {
   "cell_type": "code",
   "execution_count": null,
   "id": "d3ed591d-4fc2-4fd2-9d6c-808bc5b0aceb",
   "metadata": {},
   "outputs": [],
   "source": [
    "percent = int(input(\"Enter the Percentage\"))\n",
    "if percent >90:\n",
    "    print(\"Scored A Grade\")\n",
    "elif percent >80 and percent<=90:\n",
    "    print(\"Scored B Grade\")\n",
    "elif percent >60 and percent<=80:\n",
    "    print(\"Scored C Grade\")\n",
    "else:\n",
    "    print(\"Scored D Grade\")"
   ]
  },
  {
   "cell_type": "raw",
   "id": "1548fe1f-6fa0-4e09-9697-0138f08501ea",
   "metadata": {},
   "source": [
    "Q2. Write a program to accept the cost price of a bike and display the road tax to be paid according to the \n",
    "following criteria:\n",
    "\n",
    "      Table\n",
    "Tax         Cost Price(in Rs) \n",
    "15%    -      >100000   \n",
    "10%    -      >50000 and <= 100000 \n",
    "5%     -      <= 50000    \n"
   ]
  },
  {
   "cell_type": "code",
   "execution_count": 11,
   "id": "1a23ef93-f251-4421-8ac0-76c3ca2fca46",
   "metadata": {},
   "outputs": [
    {
     "name": "stdin",
     "output_type": "stream",
     "text": [
      "Enter the Cost Price 20000\n"
     ]
    },
    {
     "name": "stdout",
     "output_type": "stream",
     "text": [
      "Road tax to be paid : 10000.0 \n"
     ]
    }
   ],
   "source": [
    "cost_price = int(input(\"Enter the Cost Price\"))\n",
    "if cost_price >100000:\n",
    "    print(\"Road tax to be paid : {} \".format(cost_price * 0.15))\n",
    "elif cost_price >50000 and cost_price <= 100000:\n",
    "    print(\"Road tax to be paid : {} \".format(cost_price * 0.10))\n",
    "else:\n",
    "    print(\"Road tax to be paid : {} \".format(cost_price * 0.5))\n",
    "    "
   ]
  },
  {
   "cell_type": "raw",
   "id": "4d4c60ab-59c6-479a-85c2-b9fa926471dd",
   "metadata": {},
   "source": [
    "Q3. Accept any city from the user and display monuments of that city. \n",
    "\n",
    "City         Monument\n",
    "Delhi   -     Red Fort \n",
    "Agra    -     Taj Mahal\n",
    "Jaipur  -     Jal Mahal "
   ]
  },
  {
   "cell_type": "code",
   "execution_count": 18,
   "id": "76d61f97-efd5-41a5-9c23-8a0dc42ad4bb",
   "metadata": {},
   "outputs": [
    {
     "name": "stdin",
     "output_type": "stream",
     "text": [
      "Enter the City Delhi\n"
     ]
    },
    {
     "name": "stdout",
     "output_type": "stream",
     "text": [
      "The Red Fort is a historical monument located in Delhi\n"
     ]
    }
   ],
   "source": [
    "city = input(\"Enter the City\")\n",
    "if city == 'Delhi':\n",
    "    print(\"The Red Fort is a historical monument located in Delhi\")\n",
    "elif city == 'Agra':\n",
    "    print(\"The Taj Mahal is a historical monument located in Agra\")\n",
    "elif city == 'Jaipur':\n",
    "    print(\"The Jal Mahal is a historical monument located in Jaipur\") \n",
    "else:\n",
    "    print('Not Available')"
   ]
  },
  {
   "cell_type": "raw",
   "id": "3636df73-df9d-4915-9937-4de18c953e0d",
   "metadata": {},
   "source": [
    "Q4. Check how many times a given number can be divided by 3 before it is less than or equal to 10. "
   ]
  },
  {
   "cell_type": "code",
   "execution_count": 35,
   "id": "ee140987-420f-4729-97af-a2fa3e28906b",
   "metadata": {},
   "outputs": [
    {
     "name": "stdin",
     "output_type": "stream",
     "text": [
      "Enter the number 81\n"
     ]
    },
    {
     "name": "stdout",
     "output_type": "stream",
     "text": [
      "2\n"
     ]
    }
   ],
   "source": [
    "num = int(input(\"Enter the number\"))\n",
    "i = 0\n",
    "while num >10:\n",
    "    num = num/3\n",
    "    i = i+1\n",
    "print(i)   "
   ]
  },
  {
   "cell_type": "raw",
   "id": "57d391db-b0c4-4229-b5c3-8b40deaea736",
   "metadata": {},
   "source": [
    "Q5. Why and When to Use while Loop in Python give a detailed description with example "
   ]
  },
  {
   "cell_type": "raw",
   "id": "32878e9f-745d-4145-8579-6ac837460d35",
   "metadata": {},
   "source": [
    "Answer -\n",
    "The while loop is used in Python when you want to repeatedly execute a block of code as long as a certain condition remains true. It is particularly useful when you don't know in advance how many times the code needs to be executed. The loop continues until the condition evaluates to False.\n",
    "The condition is a Boolean expression that determines whether the loop should continue or not. As long as the condition remains True, the code block will be executed repeatedly. It is important to ensure that the condition eventually becomes False, otherwise, the loop will continue indefinitely, resulting in an infinite loop.\n",
    "\n",
    "\n",
    "Here's an example to illustrate the usage of a while loop:\n",
    "\n",
    "count = 0\n",
    "while count < 5:\n",
    "    print(\"Count:\", count)\n",
    "    count += 1\n",
    "    \n",
    "In this example, the loop will execute as long as the value of count is less than 5. During each iteration, it prints the current value of count and increments it by 1. The output of this code will be:\n",
    "\n",
    "makefile\n",
    "Copy code\n",
    "Count: 0\n",
    "Count: 1\n",
    "Count: 2\n",
    "Count: 3\n",
    "Count: 4\n",
    "As soon as the value of count reaches 5, the condition count < 5 becomes False, and the loop terminates.\n"
   ]
  },
  {
   "cell_type": "raw",
   "id": "e18e0743-f6e2-47f6-b54f-67e4fff3f983",
   "metadata": {},
   "source": [
    "Q6. Use nested while loop to print 3 different pattern. "
   ]
  },
  {
   "cell_type": "code",
   "execution_count": 5,
   "id": "8e2eda83-18a8-4005-8ffe-30eedef7a4c2",
   "metadata": {},
   "outputs": [
    {
     "name": "stdout",
     "output_type": "stream",
     "text": [
      "*\n",
      "**\n",
      "***\n",
      "****\n",
      "*****\n"
     ]
    }
   ],
   "source": [
    "#Pattern 1 :\n",
    "\n",
    "row = 1\n",
    "while row <= 5:\n",
    "    col = 1\n",
    "    while col <= row:\n",
    "        print(\"*\", end=\"\")\n",
    "        col += 1\n",
    "    print()\n",
    "    row += 1"
   ]
  },
  {
   "cell_type": "code",
   "execution_count": null,
   "id": "6d706a09-31db-4e11-a9e9-ca4b77f0c944",
   "metadata": {},
   "outputs": [],
   "source": [
    "1\n",
    "12\n",
    "123\n",
    "1234\n",
    "12345"
   ]
  },
  {
   "cell_type": "code",
   "execution_count": 7,
   "id": "b1144c86-5949-49b1-8c43-ef806c9d2417",
   "metadata": {},
   "outputs": [
    {
     "name": "stdout",
     "output_type": "stream",
     "text": [
      "*****\n",
      "****\n",
      "***\n",
      "**\n",
      "*\n"
     ]
    }
   ],
   "source": [
    "#Pattern 2 :\n",
    "\n",
    "row = 5\n",
    "while row >= 1:\n",
    "    col = 1\n",
    "    while col <= row:\n",
    "        print(\"*\", end=\"\")\n",
    "        col += 1\n",
    "    print()\n",
    "    row -= 1"
   ]
  },
  {
   "cell_type": "code",
   "execution_count": 10,
   "id": "d7b5cf87-ca8e-4904-9954-9bd81378c998",
   "metadata": {},
   "outputs": [
    {
     "name": "stdout",
     "output_type": "stream",
     "text": [
      "1\n",
      "12\n",
      "123\n",
      "1234\n",
      "12345\n"
     ]
    }
   ],
   "source": [
    "#Pattern 3\n",
    "\n",
    "row = 1\n",
    "while row <= 5:\n",
    "    col = 1\n",
    "    while col <= row:\n",
    "        print(col, end=\"\")\n",
    "        col += 1\n",
    "    print()\n",
    "    row += 1"
   ]
  },
  {
   "cell_type": "raw",
   "id": "b2a174a2-0b73-41e3-8bf7-cea4fdb73303",
   "metadata": {},
   "source": [
    "Q7. Reverse a while loop to display numbers from 10 to 1"
   ]
  },
  {
   "cell_type": "code",
   "execution_count": 8,
   "id": "7dfa07d8-bc43-410d-bc0b-c3946bccb89d",
   "metadata": {},
   "outputs": [
    {
     "name": "stdout",
     "output_type": "stream",
     "text": [
      "10\n",
      "9\n",
      "8\n",
      "7\n",
      "6\n",
      "5\n",
      "4\n",
      "3\n",
      "2\n",
      "1\n"
     ]
    }
   ],
   "source": [
    "num = 10\n",
    "while num >=1:\n",
    "    print(num) \n",
    "    num = num - 1\n",
    "   "
   ]
  },
  {
   "cell_type": "raw",
   "id": "bcce3713-e2c1-40a0-a86b-8bab615b2ec4",
   "metadata": {},
   "source": [
    "Q8. Reverse a while loop to display numbers from 10 to 1 "
   ]
  },
  {
   "cell_type": "code",
   "execution_count": 9,
   "id": "f7a34e94-af26-4fbb-bbc3-bad180e1e1f5",
   "metadata": {},
   "outputs": [
    {
     "name": "stdout",
     "output_type": "stream",
     "text": [
      "10\n",
      "9\n",
      "8\n",
      "7\n",
      "6\n",
      "5\n",
      "4\n",
      "3\n",
      "2\n",
      "1\n"
     ]
    }
   ],
   "source": [
    "num = 10\n",
    "while num >=1:\n",
    "    print(num) \n",
    "    num = num - 1"
   ]
  },
  {
   "cell_type": "code",
   "execution_count": null,
   "id": "6a39536d-95f5-49f3-a701-3beab20ba23c",
   "metadata": {},
   "outputs": [],
   "source": []
  }
 ],
 "metadata": {
  "kernelspec": {
   "display_name": "Python 3 (ipykernel)",
   "language": "python",
   "name": "python3"
  },
  "language_info": {
   "codemirror_mode": {
    "name": "ipython",
    "version": 3
   },
   "file_extension": ".py",
   "mimetype": "text/x-python",
   "name": "python",
   "nbconvert_exporter": "python",
   "pygments_lexer": "ipython3",
   "version": "3.10.8"
  }
 },
 "nbformat": 4,
 "nbformat_minor": 5
}
