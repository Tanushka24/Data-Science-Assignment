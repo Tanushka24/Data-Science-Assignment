{
 "cells": [
  {
   "cell_type": "markdown",
   "id": "3a899cd8-181a-4561-bd07-7d70c68934e9",
   "metadata": {},
   "source": [
    "#### Q1- Who developed Python Programming Language?"
   ]
  },
  {
   "cell_type": "markdown",
   "id": "3220736b-8842-4dfa-bee1-d2c3590a7666",
   "metadata": {},
   "source": [
    "####  Answer"
   ]
  },
  {
   "cell_type": "markdown",
   "id": "2dbee79f-3fab-4519-80f8-2e7fa5783742",
   "metadata": {},
   "source": [
    "#### Guido van Rossum developed Python"
   ]
  },
  {
   "cell_type": "markdown",
   "id": "e7c0cd58-a16f-4986-8f69-0bf185530998",
   "metadata": {},
   "source": [
    "#### Q2- Which type of Programming does Python support?"
   ]
  },
  {
   "cell_type": "markdown",
   "id": "39d8415b-bb67-4e36-a904-7bd03d2cf4f6",
   "metadata": {},
   "source": [
    "#### Answer"
   ]
  },
  {
   "cell_type": "markdown",
   "id": "eedd1f1a-39f3-4165-a26c-5b7edeefa565",
   "metadata": {},
   "source": [
    "#### Python is an interpreted programming language, supporting object-oriented, structured, and functional programming."
   ]
  },
  {
   "cell_type": "markdown",
   "id": "d47e7f20-562b-4c18-af38-1c0c3db26121",
   "metadata": {},
   "source": [
    "#### Q3- Is Python case sensitive when dealing with identifiers?"
   ]
  },
  {
   "cell_type": "markdown",
   "id": "78c3fb55-7c7b-4ed9-aea0-45305fbd00bb",
   "metadata": {},
   "source": [
    "#### Answer"
   ]
  },
  {
   "cell_type": "markdown",
   "id": "ba9bf06c-82f8-4327-8f19-7780cc204cf6",
   "metadata": {},
   "source": [
    "#### Yes, Python is a case−sensitive programming language when dealing with identifiers"
   ]
  },
  {
   "cell_type": "markdown",
   "id": "c1544efb-530d-4636-8594-247c6dba4f65",
   "metadata": {},
   "source": [
    "#### Q4- What is the correct extension of the Python file?"
   ]
  },
  {
   "cell_type": "markdown",
   "id": "77904107-6f3b-429d-a00f-7f6d1c022a19",
   "metadata": {},
   "source": [
    "#### Answer"
   ]
  },
  {
   "cell_type": "markdown",
   "id": "f77e5012-5839-46f0-98a1-73b9dbedd797",
   "metadata": {},
   "source": [
    "#### .py is the correct extension of the Python file"
   ]
  },
  {
   "cell_type": "markdown",
   "id": "4ea5bb4a-0857-4e32-a3e4-7692020f9bf7",
   "metadata": {},
   "source": [
    "#### Q5- Is Python code compiled or interpreted?"
   ]
  },
  {
   "cell_type": "markdown",
   "id": "4550244e-d2d1-4bc6-9976-f4ecd935b071",
   "metadata": {},
   "source": [
    "#### Answer"
   ]
  },
  {
   "cell_type": "markdown",
   "id": "98d0dd00-11ac-475b-a8bb-1a05fca140d5",
   "metadata": {},
   "source": [
    "#### Python code is interpreted"
   ]
  },
  {
   "cell_type": "markdown",
   "id": "0ef296b7-2d86-4c1b-af5a-c22411ae5613",
   "metadata": {},
   "source": [
    "#### Q6- Name a few blocks of code used to define in Python language?"
   ]
  },
  {
   "cell_type": "markdown",
   "id": "d6ad08ab-34f8-4aaa-b516-8e3f1538b6d2",
   "metadata": {},
   "source": [
    "#### Answer"
   ]
  },
  {
   "cell_type": "markdown",
   "id": "4d5be8a4-dea9-4e70-aff0-44a4df00b3a3",
   "metadata": {},
   "source": [
    "#### A block is a piece of Python program text that is executed as a unit. The following are blocks: a module, a function body, and a class definition"
   ]
  },
  {
   "cell_type": "markdown",
   "id": "e2dc5a03-6a43-4827-8f72-61c404da520c",
   "metadata": {},
   "source": [
    "#### Q7- State a character used to give single-line comments in Python?"
   ]
  },
  {
   "cell_type": "markdown",
   "id": "3b893600-d0c1-4d7f-9cbb-4ba8dad8f196",
   "metadata": {},
   "source": [
    "#### Answer"
   ]
  },
  {
   "cell_type": "markdown",
   "id": "c5ee0611-27f0-46cb-9d79-87b208ac2aa5",
   "metadata": {},
   "source": [
    "#### In Python, the character used to give single-line comments is the hash symbol (#). Anything after the # symbol in a line is treated as a comment and is ignored by the Python interpreter."
   ]
  },
  {
   "cell_type": "markdown",
   "id": "520efd05-f9e7-4b50-a2e2-b4e84a8e8fe3",
   "metadata": {},
   "source": [
    "#### Q8- Mention functions which can help us to find the version of python that we are currently working on?"
   ]
  },
  {
   "cell_type": "markdown",
   "id": "5fc9fb67-304d-4453-8573-37054927e91e",
   "metadata": {},
   "source": [
    "#### Answer"
   ]
  },
  {
   "cell_type": "markdown",
   "id": "9b7ccffa-98f9-4f74-9289-15a7268a0d9a",
   "metadata": {},
   "source": [
    "#### The function 'sys. version' can help us to find the version of python that we are currently working on."
   ]
  },
  {
   "cell_type": "markdown",
   "id": "d2e1bc6b-32b2-47b0-b83b-b676ba294b44",
   "metadata": {},
   "source": [
    "#### Q9 - Python supports the creation of anonymous functions at runtime, using a construct called"
   ]
  },
  {
   "cell_type": "markdown",
   "id": "bbef8fd6-1c66-476e-bbf8-a5234eeede1a",
   "metadata": {},
   "source": [
    "#### Answer"
   ]
  },
  {
   "cell_type": "markdown",
   "id": "e956f59a-63f6-4f75-b66e-4fd60c11eb11",
   "metadata": {},
   "source": [
    "#### Python supports the creation of anonymous functions (i.e. functions that are not bound to a name) at runtime, using a construct called lambda."
   ]
  },
  {
   "cell_type": "markdown",
   "id": "b849a064-79c1-467d-aaa1-3373deff31a0",
   "metadata": {},
   "source": [
    "#### Q10- What does pip stand for python?"
   ]
  },
  {
   "cell_type": "markdown",
   "id": "65ef5579-1928-4d5f-80d4-9a5e5b1027a1",
   "metadata": {},
   "source": [
    "#### Answer"
   ]
  },
  {
   "cell_type": "markdown",
   "id": "fa5432a2-fb01-4068-835c-abc6f26e088b",
   "metadata": {},
   "source": [
    "#### The term \"pip\" in Python stands for \"Pip Installs Packages.\" It is a package management system used to install and manage software packages written in Python."
   ]
  },
  {
   "cell_type": "markdown",
   "id": "b1ff1526-3d76-4bd4-bef6-036a241aa502",
   "metadata": {},
   "source": [
    "#### Q11-Mention a few built-in functions in python? "
   ]
  },
  {
   "cell_type": "markdown",
   "id": "1030eda8-5cd9-47e8-b89f-30a447c7d681",
   "metadata": {},
   "source": [
    "#### Answer"
   ]
  },
  {
   "cell_type": "markdown",
   "id": "bbaf6844-e2a8-4363-9884-71fb6a717d35",
   "metadata": {},
   "source": [
    "#### Built-in functions -\n",
    "#### 1- len() - Returns the length of an object\n",
    "#### 2- list() -\tReturns a list\n",
    "#### 3- tuple() -\tReturns a tuple\n",
    "#### 4- bool() - Returns the boolean value of the specified object\n",
    "#### 5- format() - Formats a specified value"
   ]
  },
  {
   "cell_type": "markdown",
   "id": "7de21cd5-b07a-4325-bbb4-d7f6ba1266a8",
   "metadata": {},
   "source": [
    "#### Q12- What is the maximum possible length of an identifier in Python? "
   ]
  },
  {
   "cell_type": "markdown",
   "id": "6247b10b-1192-4d71-9bec-193d81accf9d",
   "metadata": {},
   "source": [
    "#### Answer"
   ]
  },
  {
   "cell_type": "markdown",
   "id": "a590f167-2ca8-49c3-a015-b7b51c8948ed",
   "metadata": {},
   "source": [
    "#### The maximum possible length of an identifier in Python language is 79 characters"
   ]
  },
  {
   "cell_type": "markdown",
   "id": "27ff42fa-93f2-4d9c-8e80-626f0c6fa376",
   "metadata": {},
   "source": [
    "#### Q13 - What are the benefits of using Python? "
   ]
  },
  {
   "cell_type": "markdown",
   "id": "0266ab30-6a73-4dde-b35c-14a1a9df0140",
   "metadata": {},
   "source": [
    "#### Answer"
   ]
  },
  {
   "cell_type": "markdown",
   "id": "76cdb5ae-e459-4eac-898d-3e16de9fe740",
   "metadata": {},
   "source": [
    "#### Benefits of Python :\n",
    "####    1- Python offers a wide range of libraries that can be used across various applications\n",
    "####    2- Python has very concise syntax. This is noticeably true even when compared to other high-level programming languages, such as Java.\n",
    "####    3-Portability is another one of Python’s strengths\n",
    "####    4- The Python programming language has various use cases in many growing fields, including:\n",
    "\n",
    "####              1- Data science\n",
    "####              2- Machine learning\n",
    "####              3-Statistics\n",
    "####              4-Cybersecurity\n",
    "####              5-Game development"
   ]
  },
  {
   "cell_type": "markdown",
   "id": "8dc96b27-6211-42e0-bde0-de36f8601fc0",
   "metadata": {},
   "source": [
    "#### Q14- How is memory managed in Python?"
   ]
  },
  {
   "cell_type": "markdown",
   "id": "0d365181-2901-4d7b-a11f-da217526c807",
   "metadata": {},
   "source": [
    "#### Answer"
   ]
  },
  {
   "cell_type": "markdown",
   "id": "479585ac-c5a2-4984-ad85-e5c441a5f563",
   "metadata": {},
   "source": [
    "#### Python manages its memory by multiple methods which is as follows :\n",
    "#### 1- Reference Counting\n",
    "#### 2- Garbage Collection\n",
    "#### 3- Memory Pooling"
   ]
  },
  {
   "cell_type": "markdown",
   "id": "c75086a6-6492-447e-9469-53c220e04bf9",
   "metadata": {},
   "source": [
    "#### Q15- How to install Python on Windows and set path variables?"
   ]
  },
  {
   "cell_type": "markdown",
   "id": "1b0aa28b-79f6-40a2-aed9-fa7c9b7e031f",
   "metadata": {},
   "source": [
    "#### Answer"
   ]
  },
  {
   "cell_type": "markdown",
   "id": "a7fb847e-d474-4bc5-b600-bd31e6265283",
   "metadata": {},
   "source": [
    "#### Part one :\n",
    "#### To install Python on Windows and set the necessary path variables, you can follow these steps:\n",
    "\n",
    "#### Download Python: Visit the official Python website at python.org and navigate to the Downloads section. Choose the latest stable version of Python for Windows and download the installer.\n",
    "\n",
    "#### Run the Installer: Locate the downloaded installer and run it. Make sure to select the option to \"Add Python to PATH\" during the installation process. This will automatically set up the necessary environment variables.\n",
    "\n",
    "#### Verify the Installation: Open a Command Prompt or PowerShell window and type python --version. It should display the version number of the installed Python interpreter. You can also run python to open the Python interactive shell."
   ]
  },
  {
   "cell_type": "markdown",
   "id": "d300674c-3b08-4127-82b8-cc026f442cdc",
   "metadata": {},
   "source": [
    "#### Q16 - Is indentation required in python? "
   ]
  },
  {
   "cell_type": "markdown",
   "id": "54286f3f-2fdb-4bc0-9dc3-c336eb3ce5fc",
   "metadata": {},
   "source": [
    "#### Answer"
   ]
  },
  {
   "cell_type": "markdown",
   "id": "c11f099c-ab98-45c1-b215-0a751b05ac57",
   "metadata": {},
   "source": [
    "#### Regarding the second part of your question, yes, indentation is required in Python. Unlike many other programming languages that use curly braces or keywords to define blocks of code, Python uses indentation to determine the grouping and structure of code blocks."
   ]
  },
  {
   "cell_type": "code",
   "execution_count": null,
   "id": "a463d284-0b22-4a7b-9d52-b296d43f86ab",
   "metadata": {},
   "outputs": [],
   "source": []
  }
 ],
 "metadata": {
  "kernelspec": {
   "display_name": "Python 3 (ipykernel)",
   "language": "python",
   "name": "python3"
  },
  "language_info": {
   "codemirror_mode": {
    "name": "ipython",
    "version": 3
   },
   "file_extension": ".py",
   "mimetype": "text/x-python",
   "name": "python",
   "nbconvert_exporter": "python",
   "pygments_lexer": "ipython3",
   "version": "3.10.8"
  }
 },
 "nbformat": 4,
 "nbformat_minor": 5
}
