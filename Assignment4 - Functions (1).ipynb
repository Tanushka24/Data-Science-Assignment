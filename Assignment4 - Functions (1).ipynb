{
 "cells": [
  {
   "cell_type": "markdown",
   "id": "a38f8db0-108d-4cb3-9d2e-5acc8e476f7a",
   "metadata": {},
   "source": [
    "Q1. Which keyword is used to create a function? Create a function to return a list of odd numbers in the\n",
    "range of 1 to 25."
   ]
  },
  {
   "cell_type": "markdown",
   "id": "91340f0d-f369-4d10-8f6f-7c144d943309",
   "metadata": {},
   "source": [
    "Answer"
   ]
  },
  {
   "cell_type": "markdown",
   "id": "5d7448b3-e22e-4fcd-9cc3-8457304fd112",
   "metadata": {},
   "source": [
    "Part One - Def is the function which is used to create a function.\n",
    "def stands for definition and it means defining a function"
   ]
  },
  {
   "cell_type": "code",
   "execution_count": 4,
   "id": "23b38baf-e256-487a-a7c7-e05a37737426",
   "metadata": {},
   "outputs": [],
   "source": [
    "#Part Two\n",
    "def oddno(a):\n",
    "    l = []\n",
    "    for i in range(1,a):\n",
    "        if i%2==1:\n",
    "            l.append(i)\n",
    "    return l\n",
    "            \n",
    "        "
   ]
  },
  {
   "cell_type": "code",
   "execution_count": 5,
   "id": "cd47319e-665f-4d2d-b70e-6d40e7db980a",
   "metadata": {},
   "outputs": [
    {
     "data": {
      "text/plain": [
       "[1, 3, 5, 7, 9, 11, 13, 15, 17, 19, 21, 23, 25]"
      ]
     },
     "execution_count": 5,
     "metadata": {},
     "output_type": "execute_result"
    }
   ],
   "source": [
    "oddno(26)"
   ]
  },
  {
   "cell_type": "markdown",
   "id": "b5196487-bd7f-44a8-a8d4-fcb5161c4b88",
   "metadata": {},
   "source": [
    "Q2. Why *args and **kwargs is used in some functions? Create a function each for *args and **kwargs to\n",
    "demonstrate their use."
   ]
  },
  {
   "cell_type": "markdown",
   "id": "84415059-c51b-44bc-82aa-1e036694fc74",
   "metadata": {},
   "source": [
    "Answer -\n",
    "The *args and **kwargs are special syntax in Python that allow functions to accept a variable number of arguments. Here's a brief explanation of each:\n",
    "\n",
    "*args: This parameter allows a function to accept any number of positional arguments. It collects all the positional arguments into a tuple inside the function. The name args is a convention, but you can use any name preceded by a single asterisk. \n",
    "\n",
    "**kwargs: This parameter allows a function to accept any number of key value pair arguments. It collects all the key value pair arguments into a dictionary inside the function. The name kwargs is a convention, but you can use any name preceded by a double asterisk. The arguments consist of a key-value pair, where the key is the argument name and the value is the argument value. \n",
    "\n"
   ]
  },
  {
   "cell_type": "code",
   "execution_count": 7,
   "id": "9147a402-d931-4e0b-8f3a-67dc5dceef3f",
   "metadata": {},
   "outputs": [],
   "source": [
    "#*args example : # pull the list from all the input arguments (if it is a combination list, dict, tuple)\n",
    "\n",
    "def test1(*args):\n",
    "    l = []\n",
    "    for i in args:\n",
    "        if type(i) == list:\n",
    "            l.append(i)\n",
    "    return l\n",
    "    "
   ]
  },
  {
   "cell_type": "code",
   "execution_count": 8,
   "id": "4e544e8b-feac-461b-b7ac-75b44f5293e2",
   "metadata": {},
   "outputs": [],
   "source": [
    "#*kwargs : #Take input as key value pair argument\n",
    "def test2(**kwargs):\n",
    "    return kwargs"
   ]
  },
  {
   "cell_type": "markdown",
   "id": "8ef9621a-47a3-473d-b137-7028d6ded619",
   "metadata": {},
   "source": [
    "Q3. What is an iterator in python? Name the method used to initialise the iterator object and the method\n",
    "used for iteration. Use these methods to print the first five elements of the given list [2, 4, 6, 8, 10, 12, 14, 16,\n",
    "18, 20]."
   ]
  },
  {
   "cell_type": "markdown",
   "id": "3d614969-2aee-4fe6-8925-924dda6563ba",
   "metadata": {},
   "source": [
    "Answer :\n",
    "Part One :\n",
    "\n",
    "In Python, an iterator is an object that allows you to iterate over a collection of elements, such as a list, tuple, or dictionary. It provides a way to access the elements of a collection one by one, without the need to know the specific details of how the collection is implemented.\n",
    "\n",
    "To create an iterator object in Python, you need to define a class that implements the iterator protocol. The iterator protocol requires two methods to be implemented:\n",
    "\n",
    "__iter__(): This method is used to initialize the iterator object. It returns the iterator object itself. It is typically implemented to return self, as the iterator object should be able to iterate over its own elements.\n",
    "\n",
    "__next__(): This method is used to retrieve the next element from the iterator. It should return the next item in the iteration. If there are no more elements, it should raise the StopIteration exception"
   ]
  },
  {
   "cell_type": "code",
   "execution_count": 12,
   "id": "236e852f-860e-4e9b-8f23-917ee3310812",
   "metadata": {},
   "outputs": [],
   "source": [
    "#Part two \n",
    "\n",
    "class MyIterator:\n",
    "    def __init__(self, data):\n",
    "        self.data = data\n",
    "        self.index = 0\n",
    "\n",
    "    def __iter__(self):\n",
    "        return self\n",
    "\n",
    "    def __next__(self):\n",
    "        if self.index >= len(self.data):\n",
    "            raise StopIteration\n",
    "        element = self.data[self.index]\n",
    "        self.index += 1\n",
    "        return element\n"
   ]
  },
  {
   "cell_type": "code",
   "execution_count": 13,
   "id": "d518ba1c-62da-4d3d-9ef8-75129bf516ae",
   "metadata": {},
   "outputs": [],
   "source": [
    "my_list = [2, 4, 6, 8, 10, 12, 14, 16, 18, 20]\n",
    "my_iterator = MyIterator(my_list)"
   ]
  },
  {
   "cell_type": "code",
   "execution_count": 15,
   "id": "6ef26e44-2636-45c7-9f50-f623e4f126a9",
   "metadata": {},
   "outputs": [
    {
     "name": "stdout",
     "output_type": "stream",
     "text": [
      "2\n",
      "4\n",
      "6\n",
      "8\n",
      "10\n"
     ]
    }
   ],
   "source": [
    "for _ in range(5):\n",
    "    print(next(my_iterator))"
   ]
  },
  {
   "cell_type": "markdown",
   "id": "8f12cdb0-1894-4f6c-8806-d091dd6a0046",
   "metadata": {},
   "source": [
    "Q4. What is a generator function in python? Why yield keyword is used? Give an example of a generator\n",
    "function."
   ]
  },
  {
   "cell_type": "markdown",
   "id": "83216f37-d2ef-4acc-9c8f-962bbba438da",
   "metadata": {},
   "source": [
    "Answer :\n",
    "\n",
    "In Python, a generator function is a special type of function that generates a sequence of values using the yield keyword. Unlike regular functions that return a value and then terminate, generator functions can pause and resume their execution, allowing them to produce a series of values over time. This makes them memory-efficient and convenient for working with large or infinite sequences.\n",
    "\n",
    "The yield keyword is used in generator functions to define points at which the function should yield a value. When a generator function encounters a yield statement, it temporarily suspends its execution, saves its state, and returns the yielded value to the caller. The next time the generator function is called, it resumes execution from where it left off, using the saved state to continue its computations.\n",
    "\n",
    "The main advantages of using a generator function and the yield keyword are:\n",
    "\n",
    "Memory efficiency: Generator functions produce values on-the-fly, one at a time, without needing to store the entire sequence in memory. This is particularly useful for generating large or infinite sequences.\n",
    "\n",
    "Iteration simplicity: Generator functions simplify the process of creating iterators. They automatically implement the iterator protocol, so you can use them in for loops and other iterable contexts without explicitly implementing the protocol."
   ]
  },
  {
   "cell_type": "code",
   "execution_count": 16,
   "id": "44d4ae04-e643-4105-a1f5-eff655d2024c",
   "metadata": {},
   "outputs": [],
   "source": [
    "#Example - fibbonaci Series\n",
    "def fib1(n):\n",
    "    a,b = 0,1\n",
    "    for i in range(n):\n",
    "        yield a\n",
    "        a,b = b, a+b"
   ]
  },
  {
   "cell_type": "markdown",
   "id": "ee5961b8-693a-4dc8-8d24-aac0710b217b",
   "metadata": {},
   "source": [
    "Q5. Create a generator function for prime numbers less than 1000. Use the next() method to print the\n",
    "first 20 prime numbers."
   ]
  },
  {
   "cell_type": "code",
   "execution_count": 18,
   "id": "76bc3e9b-2b69-4bce-82fe-f13eeb5f5cf5",
   "metadata": {},
   "outputs": [],
   "source": [
    "def prime_generator():\n",
    "    primes = []\n",
    "    for num in range(2, 1000):\n",
    "        is_prime = True\n",
    "        for divisor in primes:\n",
    "            if num % divisor == 0:\n",
    "                is_prime = False\n",
    "                break\n",
    "        if is_prime:\n",
    "            primes.append(num)\n",
    "            yield num"
   ]
  },
  {
   "cell_type": "code",
   "execution_count": 19,
   "id": "f6dc2bc7-4c19-442c-9b4b-194ce5cfa935",
   "metadata": {},
   "outputs": [
    {
     "name": "stdout",
     "output_type": "stream",
     "text": [
      "2\n",
      "3\n",
      "5\n",
      "7\n",
      "11\n",
      "13\n",
      "17\n",
      "19\n",
      "23\n",
      "29\n",
      "31\n",
      "37\n",
      "41\n",
      "43\n",
      "47\n",
      "53\n",
      "59\n",
      "61\n",
      "67\n",
      "71\n"
     ]
    }
   ],
   "source": [
    "prime_sequence = prime_generator()\n",
    "for _ in range(20):\n",
    "    print(next(prime_sequence))"
   ]
  },
  {
   "cell_type": "code",
   "execution_count": null,
   "id": "2e9fd2f3-ec91-4f86-acdb-9c702579aac1",
   "metadata": {},
   "outputs": [],
   "source": []
  }
 ],
 "metadata": {
  "kernelspec": {
   "display_name": "Python 3 (ipykernel)",
   "language": "python",
   "name": "python3"
  },
  "language_info": {
   "codemirror_mode": {
    "name": "ipython",
    "version": 3
   },
   "file_extension": ".py",
   "mimetype": "text/x-python",
   "name": "python",
   "nbconvert_exporter": "python",
   "pygments_lexer": "ipython3",
   "version": "3.10.8"
  }
 },
 "nbformat": 4,
 "nbformat_minor": 5
}
