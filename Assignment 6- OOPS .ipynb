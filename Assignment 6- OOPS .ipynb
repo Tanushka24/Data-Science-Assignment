{
 "cells": [
  {
   "cell_type": "markdown",
   "id": "7221df75-6db8-4a52-a42c-f50792d0431e",
   "metadata": {},
   "source": [
    "#### Q1. Explain Class and Object with respect to Object-Oriented Programming. Give a suitable example."
   ]
  },
  {
   "cell_type": "markdown",
   "id": "80bd25c2-05a8-411c-89aa-7c877aa0bc50",
   "metadata": {},
   "source": [
    "#### Answer"
   ]
  },
  {
   "cell_type": "markdown",
   "id": "df808ba8-7854-4ff7-9654-4f7a95dde721",
   "metadata": {},
   "source": [
    "Class : A class is a collection of objects. A class contains the blueprints or the prototype from which the objects are being created. It is a logical entity that contains some attributes and methods.\n",
    "Example : \n",
    "#define a class\n",
    "\n",
    "    class Dog:\n",
    " \n",
    "    # class attribute\n",
    "    attr1 = \"mammal\"\n",
    " \n",
    "    # Instance attribute\n",
    "    def __init__(self, name):\n",
    "        self.name = name"
   ]
  },
  {
   "cell_type": "markdown",
   "id": "1a4af0e5-c74e-497c-8eb2-300fe2986bdf",
   "metadata": {},
   "source": [
    "Object : The object is an entity that has a state and behavior associated with it. It may be any real-world object like a mouse, keyboard, chair, table, pen, etc.\n",
    "\n",
    "An object consists of:\n",
    "\n",
    "State: It is represented by the attributes of an object. It also reflects the properties of an object.\n",
    "Behavior: It is represented by the methods of an object. It also reflects the response of an object to other objects.\n",
    "Identity: It gives a unique name to an object and enables one object to interact with other objects.\n",
    "\n",
    "\n",
    "Example :\n",
    "    #class attribute\n",
    " class Dog:\n",
    "         attr1 = \"mammal\"\n",
    " \n",
    "    #Instance attribute\n",
    "         def __init__(self, name):\n",
    "        self.name = name\n",
    " \n",
    "Object instantiation (Object Creation)\n",
    "Rodger = Dog(\"Rodger\")\n",
    "Tommy = Dog(\"Tommy\")"
   ]
  },
  {
   "cell_type": "markdown",
   "id": "778b4ab2-d3bf-47a3-8898-7d4e1799e62e",
   "metadata": {},
   "source": [
    "#### Q2. Name the four pillars of OOPs."
   ]
  },
  {
   "cell_type": "markdown",
   "id": "2fda336e-cb27-4875-8fe8-8a4c53e774a5",
   "metadata": {},
   "source": [
    "#### Answer"
   ]
  },
  {
   "cell_type": "markdown",
   "id": "2e53cae3-4152-4a65-8f1f-88aba08b21e8",
   "metadata": {},
   "source": [
    "Four Pillars of OOPs are as follows :\n",
    "The four pillars of OOPs are based on the four pillars of programming: abstraction, encapsulation, inheritance, and polymorphism. Each pillar provides a different function and helps developers organize their code for better management.\n",
    "\n",
    "An abstraction is a form of simplification and organization, allowing developers to focus on the essential parts of their code without focusing on the implementation details. It helps developers create code in a more efficient manner, while still providing the same functionality.\n",
    "\n",
    "Encapsulation is the process of combining data and codes into a single unit. It helps keep code organized, as well as helps prevent accidental data manipulation and changes.\n",
    "\n",
    "Inheritance is the process of creating new classes based on an existing class. It allows the developer to create subclasses that will inherit the attributes and behaviors of the parent class. This makes it easy to reuse code, making development faster and more efficient.\n",
    "\n",
    "Finally here in the Four pillars of OOPs, polymorphism is a form of abstraction that allows different classes to fulfill the same behavior. By taking advantage of polymorphism, developers can create code that is more easily maintained and more versatile."
   ]
  },
  {
   "cell_type": "markdown",
   "id": "cfe2a228-9cac-4b1d-b256-07d321641c78",
   "metadata": {},
   "source": [
    "#### Q3. Explain why the __init__() function is used. Give a suitable example."
   ]
  },
  {
   "cell_type": "markdown",
   "id": "2805388b-718f-4f42-a500-53b463241200",
   "metadata": {},
   "source": [
    "#### Answer"
   ]
  },
  {
   "cell_type": "markdown",
   "id": "6d5ad8a3-5723-4554-8cc2-2b0a00064135",
   "metadata": {},
   "source": [
    "The __init__() function is used in object-oriented programming languages, to initialize an object's attributes or properties when it is created from a class. It is also known as a constructor method.\n",
    "\n",
    "The primary purpose of the __init__() function is to set the initial state of an object by assigning values to its attributes. This allows you to define and customize the initial properties of an object as soon as it is instantiated. The __init__() method is automatically called when you create a new instance of a class, and it is executed before any other methods or functions of the object.\n",
    "\n",
    " Example :\n",
    "class Car:\n",
    "    def __init__(self, brand, color, year):\n",
    "        self.brand = brand\n",
    "        self.color = color\n",
    "        self.year = year\n",
    "        self.speed = 0\n",
    "\n",
    "          def accelerate(self, value):\n",
    "          self.speed += value\n",
    "\n",
    "          def brake(self, value):\n",
    "          self.speed -= value\n",
    "\n",
    "#### Creating an instance of the Car class\n",
    "my_car = Car(\"Toyota\", \"Blue\", 2022)\n",
    "\n",
    "#### Accessing the attributes of the object\n",
    "print(my_car.brand)  # Output: Toyota\n",
    "print(my_car.color)  # Output: Blue\n",
    "print(my_car.year)   # Output: 2022\n",
    "\n",
    "#### Modifying the object's attributes\n",
    "my_car.accelerate(50)\n",
    "print(my_car.speed)  # Output: 50\n",
    "\n",
    "my_car.brake(20)\n",
    "print(my_car.speed)  # Output: 20"
   ]
  },
  {
   "cell_type": "markdown",
   "id": "d8e9042c-f404-415e-bb47-f90d58c361d9",
   "metadata": {},
   "source": [
    "#### Q4. Why self is used in OOPs?"
   ]
  },
  {
   "cell_type": "markdown",
   "id": "b6226f6c-c7aa-4499-aedf-d43ee3f80609",
   "metadata": {},
   "source": [
    "#### Answer"
   ]
  },
  {
   "cell_type": "markdown",
   "id": "e43831f8-6579-4f53-b79d-0232922868b5",
   "metadata": {},
   "source": [
    "'self' represents the instance of the class. By using the “self”  we can access the attributes and methods of the class in python. It binds the attributes with the given arguments.\n",
    "\n",
    "The reason you need to use 'self' is because Python does not use the @ syntax to refer to instance attributes.\n",
    "\n",
    "Example :\n",
    "\n",
    "class check:\n",
    "    def __init__(self):\n",
    "        print(\"Address of self = \",id(self))"
   ]
  },
  {
   "cell_type": "markdown",
   "id": "4f53ba86-9689-4b21-a5a0-2c9d88fbc5a8",
   "metadata": {},
   "source": [
    "#### Q5. What is inheritance? Give an example for each type of inheritance."
   ]
  },
  {
   "cell_type": "markdown",
   "id": "0fd4e126-2172-4f6b-8d7f-33d31adc584e",
   "metadata": {},
   "source": [
    "#### Answer "
   ]
  },
  {
   "cell_type": "markdown",
   "id": "bf3267f8-9972-45e7-9c12-e77f5c1cdcd1",
   "metadata": {},
   "source": [
    "\n",
    "Inheritance is a concept in object-oriented programming where a class can inherit attributes and behaviors from another class. It allows for code reusability and the creation of a hierarchical relationship between classes.\n",
    "\n",
    "Example of each type of inheritance:\n",
    "\n",
    "Single Inheritance: A class inherits from a single base class. For example, a \"Car\" class can inherit from a \"Vehicle\" class, inheriting attributes and methods related to vehicles.\n",
    "\n",
    "Multiple Inheritance: A class inherits from multiple base classes. For instance, a \"Student\" class can inherit from both a \"Person\" class and a \"Scholarship\" class, inheriting attributes and methods from both classes.\n",
    "\n",
    "Multilevel Inheritance: A derived class becomes the base class for another class. For example, a \"Manager\" class can inherit from an \"Employee\" class, and then a \"Director\" class can inherit from the \"Manager\" class, forming a multilevel inheritance hierarchy.\n",
    "\n",
    "Hierarchical Inheritance: Multiple derived classes inherit from a single base class. For instance, a \"Shape\" class can have derived classes like \"Circle,\" \"Rectangle,\" and \"Triangle,\" which inherit common attributes and methods from the base class.\n",
    "\n",
    "Hybrid Inheritance: It is a combination of multiple and hierarchical inheritance. It involves multiple base classes and multiple levels of inheritance. The specific example may vary depending on the requirements of the program.\n",
    "\n",
    "Each type of inheritance provides flexibility and allows for the creation of class relationships that best fit the problem domain and code organization needs."
   ]
  }
 ],
 "metadata": {
  "kernelspec": {
   "display_name": "Python 3 (ipykernel)",
   "language": "python",
   "name": "python3"
  },
  "language_info": {
   "codemirror_mode": {
    "name": "ipython",
    "version": 3
   },
   "file_extension": ".py",
   "mimetype": "text/x-python",
   "name": "python",
   "nbconvert_exporter": "python",
   "pygments_lexer": "ipython3",
   "version": "3.10.8"
  }
 },
 "nbformat": 4,
 "nbformat_minor": 5
}
