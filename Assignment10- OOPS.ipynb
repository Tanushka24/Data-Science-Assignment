{
 "cells": [
  {
   "cell_type": "markdown",
   "id": "b532cf4b-1cb6-45c8-8272-c0931d173ffa",
   "metadata": {},
   "source": [
    "#### Q1 -Create a vehicle class with an init method having instance variables as name_of_vehicle, max_speed\n",
    "#### and average_of_vehicle."
   ]
  },
  {
   "cell_type": "code",
   "execution_count": 16,
   "id": "2bbe134b-ac48-4e20-8a5d-3418393ee4e8",
   "metadata": {},
   "outputs": [],
   "source": [
    "class vehicle():\n",
    "    def __init__(self, name_of_vehicle, max_speed, average_of_vehicle):\n",
    "        self.name_of_vehicle = name_of_vehicle\n",
    "        self.max_speed = max_speed\n",
    "        self.average_of_vehicle = average_of_vehicle"
   ]
  },
  {
   "cell_type": "code",
   "execution_count": 18,
   "id": "9162e275-cece-4824-86a9-209d4308376d",
   "metadata": {},
   "outputs": [
    {
     "name": "stdout",
     "output_type": "stream",
     "text": [
      "HondaCity\n",
      "120\n",
      "24\n"
     ]
    }
   ],
   "source": [
    "car = vehicle(\"HondaCity\", 120, 24)\n",
    "print(car.name_of_vehicle)\n",
    "print(car.max_speed) \n",
    "print(car.average_of_vehicle) "
   ]
  },
  {
   "cell_type": "markdown",
   "id": "991c8e42-ca90-4ffc-83d0-a23e7d9f584c",
   "metadata": {},
   "source": [
    "#### Q2. Create a child class car from the vehicle class created in Que 1, which will inherit the vehicle class.    Create a method named seating_capacity which takes capacity as an argument and returns the name of the vehicle and its seating capacity."
   ]
  },
  {
   "cell_type": "code",
   "execution_count": 35,
   "id": "2aa84508-a7b5-43af-8933-f82b9a381bf2",
   "metadata": {},
   "outputs": [],
   "source": [
    "class car(vehicle):\n",
    "    def seating_capacity(self,seating_capacity):\n",
    "        return f\"The {self.name_of_vehicle} has a seating capacity of {seating_capacity}.\""
   ]
  },
  {
   "cell_type": "code",
   "execution_count": 36,
   "id": "d031742c-4f88-4ca8-b930-3368989e0a73",
   "metadata": {},
   "outputs": [],
   "source": [
    "car_obj = car(\"Nano\",876,27)"
   ]
  },
  {
   "cell_type": "code",
   "execution_count": 37,
   "id": "26842559-9ea8-46a5-9f0d-87a38c57ad42",
   "metadata": {},
   "outputs": [
    {
     "name": "stdout",
     "output_type": "stream",
     "text": [
      "The Nano has a seating capacity of 5.\n"
     ]
    }
   ],
   "source": [
    "seating_capacity = 5\n",
    "result = car_obj.seating_capacity(seating_capacity)\n",
    "print(result)"
   ]
  },
  {
   "cell_type": "markdown",
   "id": "de05c2f5-3c1b-4745-89d4-3e59496955ba",
   "metadata": {},
   "source": [
    "#### Q3. What is multiple inheritance? Write a python code to demonstrate multiple inheritance."
   ]
  },
  {
   "cell_type": "markdown",
   "id": "7056bd17-4920-4a90-9b60-0544c4258aeb",
   "metadata": {},
   "source": [
    "Ans - When a class is derived from more than one base class, it is called multiple inheritance."
   ]
  },
  {
   "cell_type": "code",
   "execution_count": 6,
   "id": "c7d23dff-2a49-4204-9429-b380cad6c6f3",
   "metadata": {},
   "outputs": [],
   "source": [
    "class mammal:\n",
    "    def mammal_info():\n",
    "        print(\"Mammals can give birth directly\")\n",
    "class winged_mammal:\n",
    "    def wingedmammal_info():\n",
    "        print(\"Winged mammals can flap\")\n",
    "class bat(mammal,winged_mammal):\n",
    "    pass"
   ]
  },
  {
   "cell_type": "code",
   "execution_count": 8,
   "id": "0fc12a24-548f-47f7-9a3d-f164eed6a6d4",
   "metadata": {},
   "outputs": [
    {
     "name": "stdout",
     "output_type": "stream",
     "text": [
      "Winged mammals can flap\n",
      "Mammals can give birth directly\n"
     ]
    }
   ],
   "source": [
    "b1 = bat\n",
    "b1.wingedmammal_info()\n",
    "b1.mammal_info()"
   ]
  },
  {
   "cell_type": "markdown",
   "id": "0355f80c-2345-4fc3-b311-e4641aab95bc",
   "metadata": {},
   "source": [
    "#### Q4. What are getter and setter in python? Create a class and create a getter and a setter method in this class."
   ]
  },
  {
   "cell_type": "markdown",
   "id": "2518cceb-8955-414b-89ed-ea05c8a47c2d",
   "metadata": {},
   "source": [
    "Ans - In Python, getters and setters are not the same as those in other object-oriented programming languages. Basically, the main purpose of using getters and setters in object-oriented programs is to ensure data encapsulation. Private variables in python are not actually hidden fields like in other object oriented languages. Getters and Setters in python are often used when:\n",
    "\n",
    "1- We use getters & setters to add validation logic around getting and setting a value.\n",
    "2- To avoid direct access of a class field i.e. private variables cannot be accessed directly or modified by external user."
   ]
  },
  {
   "cell_type": "code",
   "execution_count": 9,
   "id": "27c8522b-c7b8-4263-be09-69a150166c8e",
   "metadata": {},
   "outputs": [],
   "source": [
    "class Geek:\n",
    "    def __init__(self,age=0):\n",
    "        self.__age = age\n",
    "        \n",
    "    #getter method\n",
    "    def get_age(self):\n",
    "        return self.__age\n",
    "    \n",
    "    def set_age(self,x):\n",
    "        self.__age = x"
   ]
  },
  {
   "cell_type": "code",
   "execution_count": 12,
   "id": "e6e143a9-bccb-410a-9d42-6b9b1790342b",
   "metadata": {},
   "outputs": [],
   "source": [
    "anshul = Geek(26)"
   ]
  },
  {
   "cell_type": "code",
   "execution_count": 13,
   "id": "408bc45f-01eb-4ae1-83d3-febadcebad0b",
   "metadata": {},
   "outputs": [
    {
     "data": {
      "text/plain": [
       "26"
      ]
     },
     "execution_count": 13,
     "metadata": {},
     "output_type": "execute_result"
    }
   ],
   "source": [
    "anshul.get_age()"
   ]
  },
  {
   "cell_type": "code",
   "execution_count": 14,
   "id": "9dc726d0-9a20-4daa-b5d0-d5167d289bb2",
   "metadata": {},
   "outputs": [],
   "source": [
    "anshul.set_age(35)"
   ]
  },
  {
   "cell_type": "code",
   "execution_count": 15,
   "id": "1474f9cd-037e-4e63-aaf1-ede5da117d71",
   "metadata": {},
   "outputs": [
    {
     "data": {
      "text/plain": [
       "35"
      ]
     },
     "execution_count": 15,
     "metadata": {},
     "output_type": "execute_result"
    }
   ],
   "source": [
    "anshul.get_age()"
   ]
  },
  {
   "cell_type": "markdown",
   "id": "a348dea5-3d1e-47fa-b7f4-06a3f25153ea",
   "metadata": {},
   "source": [
    "#### Q5.What is method overriding in python? Write a python code to demonstrate method overriding."
   ]
  },
  {
   "cell_type": "markdown",
   "id": "372611bb-b2ec-4de5-8666-f3a41d990896",
   "metadata": {},
   "source": [
    "Method overriding is an ability of any object-oriented programming language that allows a subclass or child class to provide a specific implementation of a method that is already provided by one of its super-classes or parent classes. When a method in a subclass has the same name, same parameters or signature and same return type(or sub-type) as a method in its super-class, then the method in the subclass is said to override the method in the super-class."
   ]
  },
  {
   "cell_type": "code",
   "execution_count": 16,
   "id": "60591acc-889d-4b75-ae1b-42c59bee5fca",
   "metadata": {},
   "outputs": [],
   "source": [
    "# Defining parent class\n",
    "class Parent():\n",
    "      \n",
    "    # Constructor\n",
    "    def __init__(self):\n",
    "        self.value = \"Inside Parent\"\n",
    "          \n",
    "    # Parent's show method\n",
    "    def show(self):\n",
    "        print(self.value)\n",
    "          \n",
    "# Defining child class\n",
    "class Child(Parent):\n",
    "      \n",
    "    # Constructor\n",
    "    def __init__(self):\n",
    "        self.value = \"Inside Child\"\n",
    "          \n",
    "    # Child's show method\n",
    "    def show(self):\n",
    "        print(self.value)"
   ]
  },
  {
   "cell_type": "code",
   "execution_count": 19,
   "id": "9efd6f27-90f3-419b-ade6-19a5de6b67d9",
   "metadata": {},
   "outputs": [
    {
     "name": "stdout",
     "output_type": "stream",
     "text": [
      "Inside Parent\n",
      "Inside Child\n"
     ]
    }
   ],
   "source": [
    "obj1 = Parent()\n",
    "obj2 = Child()\n",
    "obj1.show()\n",
    "obj2.show()"
   ]
  },
  {
   "cell_type": "code",
   "execution_count": null,
   "id": "662467a1-ea87-4259-bd4e-45ab81f8bd14",
   "metadata": {},
   "outputs": [],
   "source": []
  }
 ],
 "metadata": {
  "kernelspec": {
   "display_name": "Python 3 (ipykernel)",
   "language": "python",
   "name": "python3"
  },
  "language_info": {
   "codemirror_mode": {
    "name": "ipython",
    "version": 3
   },
   "file_extension": ".py",
   "mimetype": "text/x-python",
   "name": "python",
   "nbconvert_exporter": "python",
   "pygments_lexer": "ipython3",
   "version": "3.10.8"
  }
 },
 "nbformat": 4,
 "nbformat_minor": 5
}
