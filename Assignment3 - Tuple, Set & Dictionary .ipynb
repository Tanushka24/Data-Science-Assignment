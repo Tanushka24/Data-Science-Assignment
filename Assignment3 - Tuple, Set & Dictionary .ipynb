{
 "cells": [
  {
   "cell_type": "markdown",
   "id": "d1d7581c-96f1-44bd-863e-bf3078d1a733",
   "metadata": {},
   "source": [
    "#### Q1. What are the characteristics of the tuples? Is tuple immutable?"
   ]
  },
  {
   "cell_type": "markdown",
   "id": "2dbb8632-6a5c-4e2d-a77b-9c63519d1c68",
   "metadata": {},
   "source": [
    "#### Answer"
   ]
  },
  {
   "cell_type": "markdown",
   "id": "1e894713-c0fa-4699-9067-1a9fb4ab65ac",
   "metadata": {},
   "source": [
    "##### Characterstics of Tuples -\n",
    "##### 1- Tuples are indexed\n",
    "##### 2- Tuples are ordered\n",
    "##### 3- Tuples can store duplicate values\n",
    "##### 4- Tuples use parentheses ()\n",
    "\n",
    "##### Tuple is immutable because it belongs to the sequence data type category."
   ]
  },
  {
   "cell_type": "markdown",
   "id": "627f71ac-bf44-4a67-8194-11e43e32a057",
   "metadata": {},
   "source": [
    "#### Q2. What are the two tuple methods in python? Give an example of each method. Give a reason why\n",
    "#### tuples have only two in-built methods as compared to Lists."
   ]
  },
  {
   "cell_type": "markdown",
   "id": "2c8a07fe-2c59-48e2-a30b-8cf29048393f",
   "metadata": {},
   "source": [
    "#### Answer"
   ]
  },
  {
   "cell_type": "markdown",
   "id": "dac586f8-fa6e-4665-9c38-d960c655c90d",
   "metadata": {},
   "source": [
    "##### Two methods of Tuples:\n",
    "##### 1- Count() - The count() method returns the number of times a specified value appears in the tuple\n",
    "##### 2- Index() - The index() method finds the first occurrence of the specified value. It raises an exception if the value is not found\n",
    "\n",
    "\n",
    "##### As a tuple is an immutable data structure in python. Elements of Tuple cannot be modified once they are created. Because #####  of this, there are only two of methods available for working."
   ]
  },
  {
   "cell_type": "markdown",
   "id": "ce67a0f4-f580-45e5-95dc-841404631485",
   "metadata": {},
   "source": [
    "#### Q3. Which collection datatypes in python do not allow duplicate items? Write a code using a set to remove\n",
    "#### duplicates from the given list.\n",
    "#### List = [1, 1, 1, 2, 1, 3, 1, 4, 2, 1, 2, 2, 2, 3, 2, 4, 3, 1, 3, 2, 3, 3, 3, 4, 4, 1, 4, 2, 4, 3, 4, 4]"
   ]
  },
  {
   "cell_type": "markdown",
   "id": "abebf23e-f121-4d77-a732-61dcc127dbcf",
   "metadata": {},
   "source": [
    "#### Answer"
   ]
  },
  {
   "cell_type": "markdown",
   "id": "2c972465-4022-4206-8e8c-d174f264743a",
   "metadata": {},
   "source": [
    "#### Part One - Set is datatype which do not allow duplicate items."
   ]
  },
  {
   "cell_type": "code",
   "execution_count": 8,
   "id": "fdc93445-7e83-4c92-a285-842262b7e604",
   "metadata": {},
   "outputs": [
    {
     "data": {
      "text/plain": [
       "{1, 2, 3, 4}"
      ]
     },
     "execution_count": 8,
     "metadata": {},
     "output_type": "execute_result"
    }
   ],
   "source": [
    "# Part Two - \n",
    "List = [1, 1, 1, 2, 1, 3, 1, 4, 2, 1, 2, 2, 2, 3, 2, 4, 3, 1, 3, 2, 3, 3, 3, 4, 4, 1, 4, 2, 4, 3, 4, 4]\n",
    "Set1 = set(List)\n",
    "Set1"
   ]
  },
  {
   "cell_type": "markdown",
   "id": "22f8bcb7-1ce7-46ad-b6b9-c05b6fb27969",
   "metadata": {},
   "source": [
    "#### Q4. Explain the difference between the union() and update() methods for a set. Give an example of\n",
    "#### each method."
   ]
  },
  {
   "cell_type": "markdown",
   "id": "97e226b9-c50c-40e1-b244-922f42116550",
   "metadata": {},
   "source": [
    "#### Answer"
   ]
  },
  {
   "cell_type": "code",
   "execution_count": 5,
   "id": "5965b4f5-3ec8-43ee-895d-406ef08e2685",
   "metadata": {},
   "outputs": [
    {
     "name": "stdout",
     "output_type": "stream",
     "text": [
      "{'apple', 'google', 'banana', 'microsoft', 'cherry'}\n"
     ]
    }
   ],
   "source": [
    "# update() - The update() method updates the current set, by adding items from another set (or any other iterable)\n",
    "# Example : \n",
    "x = {\"apple\", \"banana\", \"cherry\"}\n",
    "y = {\"google\", \"microsoft\", \"apple\"}\n",
    "\n",
    "x.update(y)\n",
    "\n",
    "print(x)"
   ]
  },
  {
   "cell_type": "code",
   "execution_count": 6,
   "id": "453566c2-37c9-4926-8bb7-f2dbf14bbac3",
   "metadata": {},
   "outputs": [
    {
     "name": "stdout",
     "output_type": "stream",
     "text": [
      "{'apple', 'google', 'banana', 'microsoft', 'cherry'}\n"
     ]
    }
   ],
   "source": [
    "# union() - The union() method returns a set that contains all items from the original set, and all items from the specified set(s)\n",
    "# Example :\n",
    "x = {\"apple\", \"banana\", \"cherry\"}\n",
    "y = {\"google\", \"microsoft\", \"apple\"}\n",
    "\n",
    "z = x.union(y)\n",
    "\n",
    "print(z)"
   ]
  },
  {
   "cell_type": "markdown",
   "id": "d77a55be-6d82-49a4-afc5-ce2b03b7c8cc",
   "metadata": {},
   "source": [
    "#### Q5. What is a dictionary? Give an example. Also, state whether a dictionary is ordered or unordered."
   ]
  },
  {
   "cell_type": "markdown",
   "id": "e702974e-f403-4653-a08b-9324511e1b93",
   "metadata": {},
   "source": [
    "#### Answer"
   ]
  },
  {
   "cell_type": "markdown",
   "id": "11e99f83-c280-44b9-aeb2-c40ef95a7b64",
   "metadata": {},
   "source": [
    "#### A dictionary is a collection which is changeable and do not allow duplicates.  Dictionaries are used to store data values in key : value pairs. It is ordered"
   ]
  },
  {
   "cell_type": "code",
   "execution_count": 7,
   "id": "deed2cbd-484a-47f0-ad45-60c336aaf2c0",
   "metadata": {},
   "outputs": [
    {
     "name": "stdout",
     "output_type": "stream",
     "text": [
      "{'brand': 'Ford', 'model': 'Mustang', 'year': 1964}\n"
     ]
    }
   ],
   "source": [
    "#Example : \n",
    "thisdict = {\n",
    "  \"brand\": \"Ford\",\n",
    "  \"model\": \"Mustang\",\n",
    "  \"year\": 1964\n",
    "}\n",
    "print(thisdict)"
   ]
  },
  {
   "cell_type": "markdown",
   "id": "a5efc9f7-85fd-40b5-91c3-31954ee7466a",
   "metadata": {},
   "source": [
    "#### Q6. Can we create a nested dictionary? If so, please give an example by creating a simple one-level nested dictionary."
   ]
  },
  {
   "cell_type": "markdown",
   "id": "7f13004f-34aa-47ea-8b6e-b9fffa504bda",
   "metadata": {},
   "source": [
    "#### Answer"
   ]
  },
  {
   "cell_type": "markdown",
   "id": "ef5b249f-1da7-4226-880c-5937e7f4c9de",
   "metadata": {},
   "source": [
    "#### Nesting Dictionary means putting a dictionary inside another dictionary. "
   ]
  },
  {
   "cell_type": "code",
   "execution_count": 11,
   "id": "e98a734a-0113-41fa-a90f-8b05ed4018be",
   "metadata": {},
   "outputs": [
    {
     "data": {
      "text/plain": [
       "{1: 'Geeks', 2: 'For', 3: {'A': 'Welcome', 'B': 'To', 'C': 'Geeks'}}"
      ]
     },
     "execution_count": 11,
     "metadata": {},
     "output_type": "execute_result"
    }
   ],
   "source": [
    "#Example :\n",
    "# Creating a Nested Dictionary\n",
    "Dict = {1: 'Geeks', 2: 'For', 3: {'A': 'Welcome', 'B': 'To', 'C': 'Geeks'}}\n",
    "Dict"
   ]
  },
  {
   "cell_type": "markdown",
   "id": "3d883a58-448d-415c-b7e3-f2f1d5080ffe",
   "metadata": {},
   "source": [
    "#### Q7.   Using setdefault() method, create key named topics in the given dictionary and also add the value of the key as this list ['Python', 'Machine Learning’, 'Deep Learning']\n",
    " \n",
    "#### dict1 = {'language' : 'Python', 'course': 'Data Science Masters'}"
   ]
  },
  {
   "cell_type": "markdown",
   "id": "2b06cb41-8b6b-4b21-a6b9-aa225db7a3b4",
   "metadata": {},
   "source": [
    "#### Answer"
   ]
  },
  {
   "cell_type": "code",
   "execution_count": 30,
   "id": "f9f0bec3-2450-4426-a7f3-d5d87dccf272",
   "metadata": {},
   "outputs": [
    {
     "name": "stdout",
     "output_type": "stream",
     "text": [
      "{'language': 'Python', 'course': 'Data Science Masters', 'topics': ['Python', 'Machine Learning', 'Deep Learning']}\n"
     ]
    }
   ],
   "source": [
    "dict1 = {'language' : 'Python', 'course': 'Data Science Masters'}\n",
    "dict1.setdefault('topics',['Python', 'Machine Learning', 'Deep Learning'])\n",
    "print(dict1)"
   ]
  },
  {
   "cell_type": "markdown",
   "id": "7bc10be9-3de9-4e73-a233-60da82b01d39",
   "metadata": {},
   "source": [
    "#### Q8. What are the three view objects in dictionaries? Use the three in-built methods in python to display\n",
    "#### these three view objects for the given dictionary.\n",
    "#### dict1 = {'Sport': 'Cricket' , 'Teams': ['India', 'Australia', 'England', 'South Africa', 'Sri Lanka', 'New Zealand']}"
   ]
  },
  {
   "cell_type": "markdown",
   "id": "4cd1ad1b-1d40-4b7d-a160-f4789500c432",
   "metadata": {},
   "source": [
    "#### Answer"
   ]
  },
  {
   "cell_type": "code",
   "execution_count": 20,
   "id": "d8b42dca-cfeb-498e-837e-b6f36980bf25",
   "metadata": {},
   "outputs": [
    {
     "data": {
      "text/plain": [
       "dict_keys(['Sport', 'Teams'])"
      ]
     },
     "execution_count": 20,
     "metadata": {},
     "output_type": "execute_result"
    }
   ],
   "source": [
    "# The three view objects of dictionary in python are keys, values and items.\n",
    "dict1 = {'Sport': 'Cricket' , 'Teams': ['India', 'Australia', 'England', 'South Africa', 'Sri Lanka', 'New Zealand']}\n",
    "dict1.keys()"
   ]
  },
  {
   "cell_type": "code",
   "execution_count": 21,
   "id": "feff7924-860b-4151-b69d-d872632f84a3",
   "metadata": {},
   "outputs": [
    {
     "data": {
      "text/plain": [
       "dict_values(['Cricket', ['India', 'Australia', 'England', 'South Africa', 'Sri Lanka', 'New Zealand']])"
      ]
     },
     "execution_count": 21,
     "metadata": {},
     "output_type": "execute_result"
    }
   ],
   "source": [
    "dict1.values()"
   ]
  },
  {
   "cell_type": "code",
   "execution_count": 22,
   "id": "b03775a2-6d00-4880-bda6-cd2979de4ce0",
   "metadata": {},
   "outputs": [
    {
     "data": {
      "text/plain": [
       "dict_items([('Sport', 'Cricket'), ('Teams', ['India', 'Australia', 'England', 'South Africa', 'Sri Lanka', 'New Zealand'])])"
      ]
     },
     "execution_count": 22,
     "metadata": {},
     "output_type": "execute_result"
    }
   ],
   "source": [
    "dict1.items()"
   ]
  }
 ],
 "metadata": {
  "kernelspec": {
   "display_name": "Python 3 (ipykernel)",
   "language": "python",
   "name": "python3"
  },
  "language_info": {
   "codemirror_mode": {
    "name": "ipython",
    "version": 3
   },
   "file_extension": ".py",
   "mimetype": "text/x-python",
   "name": "python",
   "nbconvert_exporter": "python",
   "pygments_lexer": "ipython3",
   "version": "3.10.8"
  }
 },
 "nbformat": 4,
 "nbformat_minor": 5
}
